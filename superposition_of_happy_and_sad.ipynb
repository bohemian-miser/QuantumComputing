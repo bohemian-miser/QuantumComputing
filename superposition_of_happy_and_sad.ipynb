{
  "nbformat": 4,
  "nbformat_minor": 0,
  "metadata": {
    "colab": {
      "provenance": [],
      "include_colab_link": true
    },
    "kernelspec": {
      "name": "python3",
      "display_name": "Python 3"
    },
    "language_info": {
      "name": "python"
    },
    "accelerator": "TPU"
  },
  "cells": [
    {
      "cell_type": "markdown",
      "metadata": {
        "id": "view-in-github",
        "colab_type": "text"
      },
      "source": [
        "<a href=\"https://colab.research.google.com/github/bohemian-miser/QuantumComputing/blob/main/superposition_of_happy_and_sad.ipynb\" target=\"_parent\"><img src=\"https://colab.research.google.com/assets/colab-badge.svg\" alt=\"Open In Colab\"/></a>"
      ]
    },
    {
      "cell_type": "code",
      "execution_count": 1,
      "metadata": {
        "colab": {
          "base_uri": "https://localhost:8080/"
        },
        "cellView": "form",
        "id": "7QiILuP6M_sq",
        "outputId": "7c10c1f1-4a27-4743-c138-a44187d98b15"
      },
      "outputs": [
        {
          "output_type": "stream",
          "name": "stdout",
          "text": [
            "installing cirq...\n",
            "\u001b[2K     \u001b[90m━━━━━━━━━━━━━━━━━━━━━━━━━━━━━━━━━━━━━━━━\u001b[0m \u001b[32m598.8/598.8 kB\u001b[0m \u001b[31m4.0 MB/s\u001b[0m eta \u001b[36m0:00:00\u001b[0m\n",
            "\u001b[2K     \u001b[90m━━━━━━━━━━━━━━━━━━━━━━━━━━━━━━━━━━━━━━━━\u001b[0m \u001b[32m1.8/1.8 MB\u001b[0m \u001b[31m26.6 MB/s\u001b[0m eta \u001b[36m0:00:00\u001b[0m\n",
            "\u001b[?25hinstalled cirq.\n",
            "installing qsimcirq...\n",
            "\u001b[2K     \u001b[90m━━━━━━━━━━━━━━━━━━━━━━━━━━━━━━━━━━━━━━━━\u001b[0m \u001b[32m1.6/1.6 MB\u001b[0m \u001b[31m7.3 MB/s\u001b[0m eta \u001b[36m0:00:00\u001b[0m\n",
            "\u001b[2K     \u001b[90m━━━━━━━━━━━━━━━━━━━━━━━━━━━━━━━━━━━━━━━━\u001b[0m \u001b[32m227.7/227.7 kB\u001b[0m \u001b[31m13.3 MB/s\u001b[0m eta \u001b[36m0:00:00\u001b[0m\n",
            "\u001b[?25hinstalled qsimcirq.\n"
          ]
        }
      ],
      "source": [
        "# @title Install `cirq_google` and `qsimcirq`\n",
        "\n",
        "try:\n",
        "    import cirq\n",
        "    import cirq_google\n",
        "except ImportError:\n",
        "    print(\"installing cirq...\")\n",
        "    !pip install --quiet cirq-google\n",
        "    print(\"installed cirq.\")\n",
        "    import cirq\n",
        "    import cirq_google\n",
        "\n",
        "try:\n",
        "    import qsimcirq\n",
        "except ImportError:\n",
        "    print(\"installing qsimcirq...\")\n",
        "    !pip install --quiet qsimcirq\n",
        "    print(f\"installed qsimcirq.\")\n",
        "    import qsimcirq\n",
        "\n",
        "# Other modules used in this colab\n",
        "import matplotlib.pyplot as plt\n",
        "import time"
      ]
    },
    {
      "cell_type": "markdown",
      "source": [
        "# Making a quantum superposition of ASCII art.\n",
        "\n",
        "Each character is a qubit.\n",
        "```\n",
        "|0> -> '_'\n",
        "|1> -> '#'\n",
        "```\n",
        "\n",
        "Here's the art:\n",
        "```\n",
        "happy =  \"_________________\"+\\\n",
        "         \"____#_______#____\"+\\\n",
        "         \"___###_____###___\"+\\\n",
        "         \"_________________\"+\\\n",
        "         \"____#_______#____\"+\\\n",
        "         \"_____#_____#_____\"+\\\n",
        "         \"______#####______\"+\\\n",
        "         \"_________________\"\n",
        "\n",
        "sad =    \"_________________\"+\\\n",
        "         \"___###_____###___\"+\\\n",
        "         \"____#_______#____\"+\\\n",
        "         \"_________________\"+\\\n",
        "         \"______#####______\"+\\\n",
        "         \"_____#_____#_____\"+\\\n",
        "         \"_____#_____#_____\"+\\\n",
        "         \"_________________\"\n",
        "```\n",
        "\n",
        "## Building a quantum superpostion\n",
        "\n",
        "The goal for our qubits is to have a superposition of happy and sad such that we only get 1 when we measure:\n",
        "* some always 0 `_` (background)\n",
        "* some always 1 `#` (elements in both happy and sad)\n",
        "* the rest will be in an entangled state of happy/sad.\n",
        "\n",
        "To test this lets make a simplified string of 8 qubits:\n",
        "* q0 -> 0 (Simulating parts that are always 0).\n",
        "* q1 -> 1 (Simulating parts that are common to both outputs, e.g eyes).\n",
        "* q2, q3, q4 -> 000 OR 111 Simulating bits only found in 'Happy'.\n",
        "* q5, q6, q7 -> 111 OR 000 Simulating bits only found in 'Sad'.\n",
        "\n",
        "Read off bits right to left: i.e qubit: 76543210.\n",
        "```\n",
        "Happy\n",
        "|00011110>\n",
        "\n",
        "Sad\n",
        "|11100010>\n",
        "\n",
        "```"
      ],
      "metadata": {
        "id": "Hsh-YKBxjgaC"
      }
    },
    {
      "cell_type": "code",
      "source": [
        "from sympy import symbols, init_printing\n",
        "from sympy.physics.quantum import qapply\n",
        "from sympy.physics.quantum.gate import *\n",
        "from sympy.physics.quantum.qubit import Qubit\n",
        "init_printing(use_latex=True)\n",
        "\n",
        "# Brush up on gates and how they work at https://docs.sympy.org/latest/modules/physics/quantum/gate.html#.\n",
        "gates = [\n",
        "    X(1),       # Set the second qubit to 1. Simulating common features of both outputs.\n",
        "    H(2),       # Choose the first element of the first subset (q2) as the one to be in a superposition of 0/1.\n",
        "    CNOT(2,5),  # Entangle it with the first element of the second subset (5).\n",
        "    X(2),       # Swap 0/1 on qubit (2) so that it's now _out of phase_ with (5).\n",
        "    CNOT(2,3),  # Entangle (2) with the rest of the first set {3,4}.\n",
        "    CNOT(2,4),\n",
        "    CNOT(5,6),  # Entangle (5) with the rest of the second set {6,7}.\n",
        "    CNOT(5,7),\n",
        "]\n",
        "\n",
        "# The qubits are in reverse order, i.e 876543210.\n",
        "current_state =  Qubit('00000000')\n",
        "print(\"Initial State:\")\n",
        "display(current_state)\n",
        "\n",
        "# Iterate through the gates, printing out the state each time.\n",
        "for i, gate in enumerate(gates):\n",
        "    current_state = qapply(gate * current_state)\n",
        "    print(f\"\\nState after applying {gate}:\")\n",
        "    display(current_state)"
      ],
      "metadata": {
        "colab": {
          "base_uri": "https://localhost:8080/",
          "height": 622
        },
        "id": "kBSo0P7QjXGJ",
        "outputId": "bd00eeb9-06ee-487e-d295-053f461e0f89"
      },
      "execution_count": 2,
      "outputs": [
        {
          "output_type": "stream",
          "name": "stdout",
          "text": [
            "Initial State:\n"
          ]
        },
        {
          "output_type": "display_data",
          "data": {
            "text/plain": [
              "❘00000000⟩"
            ],
            "text/latex": "$\\displaystyle {\\left|00000000\\right\\rangle }$"
          },
          "metadata": {}
        },
        {
          "output_type": "stream",
          "name": "stdout",
          "text": [
            "\n",
            "State after applying X(1):\n"
          ]
        },
        {
          "output_type": "display_data",
          "data": {
            "text/plain": [
              "❘00000010⟩"
            ],
            "text/latex": "$\\displaystyle {\\left|00000010\\right\\rangle }$"
          },
          "metadata": {}
        },
        {
          "output_type": "stream",
          "name": "stdout",
          "text": [
            "\n",
            "State after applying H(2):\n"
          ]
        },
        {
          "output_type": "display_data",
          "data": {
            "text/plain": [
              "√2⋅❘00000010⟩   √2⋅❘00000110⟩\n",
              "───────────── + ─────────────\n",
              "      2               2      "
            ],
            "text/latex": "$\\displaystyle \\frac{\\sqrt{2} {\\left|00000010\\right\\rangle }}{2} + \\frac{\\sqrt{2} {\\left|00000110\\right\\rangle }}{2}$"
          },
          "metadata": {}
        },
        {
          "output_type": "stream",
          "name": "stdout",
          "text": [
            "\n",
            "State after applying CNOT(2,5):\n"
          ]
        },
        {
          "output_type": "display_data",
          "data": {
            "text/plain": [
              "√2⋅❘00000010⟩   √2⋅❘00100110⟩\n",
              "───────────── + ─────────────\n",
              "      2               2      "
            ],
            "text/latex": "$\\displaystyle \\frac{\\sqrt{2} {\\left|00000010\\right\\rangle }}{2} + \\frac{\\sqrt{2} {\\left|00100110\\right\\rangle }}{2}$"
          },
          "metadata": {}
        },
        {
          "output_type": "stream",
          "name": "stdout",
          "text": [
            "\n",
            "State after applying X(2):\n"
          ]
        },
        {
          "output_type": "display_data",
          "data": {
            "text/plain": [
              "√2⋅❘00000110⟩   √2⋅❘00100010⟩\n",
              "───────────── + ─────────────\n",
              "      2               2      "
            ],
            "text/latex": "$\\displaystyle \\frac{\\sqrt{2} {\\left|00000110\\right\\rangle }}{2} + \\frac{\\sqrt{2} {\\left|00100010\\right\\rangle }}{2}$"
          },
          "metadata": {}
        },
        {
          "output_type": "stream",
          "name": "stdout",
          "text": [
            "\n",
            "State after applying CNOT(2,3):\n"
          ]
        },
        {
          "output_type": "display_data",
          "data": {
            "text/plain": [
              "√2⋅❘00001110⟩   √2⋅❘00100010⟩\n",
              "───────────── + ─────────────\n",
              "      2               2      "
            ],
            "text/latex": "$\\displaystyle \\frac{\\sqrt{2} {\\left|00001110\\right\\rangle }}{2} + \\frac{\\sqrt{2} {\\left|00100010\\right\\rangle }}{2}$"
          },
          "metadata": {}
        },
        {
          "output_type": "stream",
          "name": "stdout",
          "text": [
            "\n",
            "State after applying CNOT(2,4):\n"
          ]
        },
        {
          "output_type": "display_data",
          "data": {
            "text/plain": [
              "√2⋅❘00011110⟩   √2⋅❘00100010⟩\n",
              "───────────── + ─────────────\n",
              "      2               2      "
            ],
            "text/latex": "$\\displaystyle \\frac{\\sqrt{2} {\\left|00011110\\right\\rangle }}{2} + \\frac{\\sqrt{2} {\\left|00100010\\right\\rangle }}{2}$"
          },
          "metadata": {}
        },
        {
          "output_type": "stream",
          "name": "stdout",
          "text": [
            "\n",
            "State after applying CNOT(5,6):\n"
          ]
        },
        {
          "output_type": "display_data",
          "data": {
            "text/plain": [
              "√2⋅❘00011110⟩   √2⋅❘01100010⟩\n",
              "───────────── + ─────────────\n",
              "      2               2      "
            ],
            "text/latex": "$\\displaystyle \\frac{\\sqrt{2} {\\left|00011110\\right\\rangle }}{2} + \\frac{\\sqrt{2} {\\left|01100010\\right\\rangle }}{2}$"
          },
          "metadata": {}
        },
        {
          "output_type": "stream",
          "name": "stdout",
          "text": [
            "\n",
            "State after applying CNOT(5,7):\n"
          ]
        },
        {
          "output_type": "display_data",
          "data": {
            "text/plain": [
              "√2⋅❘00011110⟩   √2⋅❘11100010⟩\n",
              "───────────── + ─────────────\n",
              "      2               2      "
            ],
            "text/latex": "$\\displaystyle \\frac{\\sqrt{2} {\\left|00011110\\right\\rangle }}{2} + \\frac{\\sqrt{2} {\\left|11100010\\right\\rangle }}{2}$"
          },
          "metadata": {}
        }
      ]
    },
    {
      "cell_type": "markdown",
      "source": [
        "```\n",
        "√2⋅❘00011110⟩   √2⋅❘11100010⟩\n",
        "───────────── + ─────────────\n",
        "      2               2      \n",
        "```\n",
        "The output above indicates that there is a 50/50 chance of getting:\n",
        "* Happy:\n",
        "    * 00011110 (2,3,4) = 111, (5,6,7) = 000\n",
        "* Sad:\n",
        "    * 11100010 (2,3,4) = 000, (5,6,7) = 111\n",
        "\n",
        "We can apply this on a larger scale to our smiley/sad strings.\n"
      ],
      "metadata": {
        "id": "QPS8rrncmJhq"
      }
    },
    {
      "cell_type": "code",
      "source": [
        "#@title Circuit diagram\n",
        "#@markdown In case you are curious, this is what the circuit diagram looks like.\n",
        "#@markdown Notice that q2 is the only one to perform an X on itself.\n",
        "#@markdown This is to put it out of phase with q5. The rest of the X gates are\n",
        "#@markdown controlled (CNOT)'s, are to bring the rest of each set in sync/phase\n",
        "#@markdown with either q2 and q5.\n",
        "try:\n",
        "    import qiskit\n",
        "except ImportError:\n",
        "    print(\"installing qiskit...\")\n",
        "    !pip install --quiet qiskit\n",
        "    print(f\"installed qiskit.\")\n",
        "    import qiskit\n",
        "\n",
        "from qiskit import QuantumCircuit, QuantumRegister\n",
        "from qiskit.visualization import plot_histogram, circuit_drawer\n",
        "\n",
        "def create_qiskit_entanglement_circuit(num_qubits, ones, setA, setB):\n",
        "    # Initialize the circuit with the required number of qubits\n",
        "    qr = QuantumRegister(num_qubits)\n",
        "    circuit = QuantumCircuit(qr)\n",
        "\n",
        "    # Apply X gates to specified qubits\n",
        "    for idx in ones:\n",
        "        circuit.x(qr[idx])\n",
        "\n",
        "    # Entangle sets\n",
        "    if setA and setB:\n",
        "        circuit.h(qr[setA[0]])\n",
        "        circuit.cx(qr[setA[0]], qr[setB[0]])\n",
        "        circuit.x(qr[setA[0]])\n",
        "        for idx in setA[1:]:\n",
        "            circuit.cx(qr[setA[0]], qr[idx])\n",
        "        for idx in setB[1:]:\n",
        "            circuit.cx(qr[setB[0]], qr[idx])\n",
        "\n",
        "    # Add measurement to all qubits to visualize the outcomes\n",
        "    circuit.measure_all()\n",
        "\n",
        "    return circuit\n",
        "\n",
        "# Example usage with dummy indices (update these based on your ASCII art logic)\n",
        "ones = [1]  # Qubits to be initialized to |1>\n",
        "setA = [2, 3, 4]  # First set of qubits for the entanglement\n",
        "setB = [5, 6, 7]  # Second set of qubits for the entanglement\n",
        "num_qubits = max(ones + setA + setB) + 1  # Determine the number of qubits needed\n",
        "\n",
        "# Create the circuit\n",
        "circuit = create_qiskit_entanglement_circuit(num_qubits, ones, setA, setB)\n",
        "\n",
        "# Visualize the circuit\n",
        "circuit_drawer = circuit.draw(output='text')\n",
        "circuit_drawer\n"
      ],
      "metadata": {
        "colab": {
          "base_uri": "https://localhost:8080/",
          "height": 448
        },
        "cellView": "form",
        "id": "gZbrdcl30uva",
        "outputId": "5bff6d0b-1a02-4a06-fcfe-491b35b00aec"
      },
      "execution_count": 3,
      "outputs": [
        {
          "output_type": "stream",
          "name": "stdout",
          "text": [
            "installing qiskit...\n",
            "\u001b[2K     \u001b[90m━━━━━━━━━━━━━━━━━━━━━━━━━━━━━━━━━━━━━━━━\u001b[0m \u001b[32m5.6/5.6 MB\u001b[0m \u001b[31m19.2 MB/s\u001b[0m eta \u001b[36m0:00:00\u001b[0m\n",
            "\u001b[2K     \u001b[90m━━━━━━━━━━━━━━━━━━━━━━━━━━━━━━━━━━━━━━━━\u001b[0m \u001b[32m2.2/2.2 MB\u001b[0m \u001b[31m53.5 MB/s\u001b[0m eta \u001b[36m0:00:00\u001b[0m\n",
            "\u001b[2K     \u001b[90m━━━━━━━━━━━━━━━━━━━━━━━━━━━━━━━━━━━━━━━━\u001b[0m \u001b[32m116.3/116.3 kB\u001b[0m \u001b[31m9.5 MB/s\u001b[0m eta \u001b[36m0:00:00\u001b[0m\n",
            "\u001b[2K     \u001b[90m━━━━━━━━━━━━━━━━━━━━━━━━━━━━━━━━━━━━━━━━\u001b[0m \u001b[32m49.6/49.6 kB\u001b[0m \u001b[31m4.5 MB/s\u001b[0m eta \u001b[36m0:00:00\u001b[0m\n",
            "\u001b[2K     \u001b[90m━━━━━━━━━━━━━━━━━━━━━━━━━━━━━━━━━━━━━━━━\u001b[0m \u001b[32m39.4/39.4 MB\u001b[0m \u001b[31m12.1 MB/s\u001b[0m eta \u001b[36m0:00:00\u001b[0m\n",
            "\u001b[2K     \u001b[90m━━━━━━━━━━━━━━━━━━━━━━━━━━━━━━━━━━━━━━━━\u001b[0m \u001b[32m107.5/107.5 kB\u001b[0m \u001b[31m10.9 MB/s\u001b[0m eta \u001b[36m0:00:00\u001b[0m\n",
            "\u001b[?25hinstalled qiskit.\n"
          ]
        },
        {
          "output_type": "execute_result",
          "data": {
            "text/plain": [
              "                                  ░ ┌─┐                     \n",
              "  q0_0: ──────────────────────────░─┤M├─────────────────────\n",
              "        ┌───┐                     ░ └╥┘┌─┐                  \n",
              "  q0_1: ┤ X ├─────────────────────░──╫─┤M├──────────────────\n",
              "        ├───┤     ┌───┐           ░  ║ └╥┘┌─┐               \n",
              "  q0_2: ┤ H ├──■──┤ X ├──■────■───░──╫──╫─┤M├───────────────\n",
              "        └───┘  │  └───┘┌─┴─┐  │   ░  ║  ║ └╥┘┌─┐            \n",
              "  q0_3: ───────┼───────┤ X ├──┼───░──╫──╫──╫─┤M├────────────\n",
              "               │       └───┘┌─┴─┐ ░  ║  ║  ║ └╥┘┌─┐         \n",
              "  q0_4: ───────┼────────────┤ X ├─░──╫──╫──╫──╫─┤M├─────────\n",
              "             ┌─┴─┐          └───┘ ░  ║  ║  ║  ║ └╥┘┌─┐      \n",
              "  q0_5: ─────┤ X ├──■────■────────░──╫──╫──╫──╫──╫─┤M├──────\n",
              "             └───┘┌─┴─┐  │        ░  ║  ║  ║  ║  ║ └╥┘┌─┐   \n",
              "  q0_6: ──────────┤ X ├──┼────────░──╫──╫──╫──╫──╫──╫─┤M├───\n",
              "                  └───┘┌─┴─┐      ░  ║  ║  ║  ║  ║  ║ └╥┘┌─┐\n",
              "  q0_7: ───────────────┤ X ├──────░──╫──╫──╫──╫──╫──╫──╫─┤M├\n",
              "                       └───┘      ░  ║  ║  ║  ║  ║  ║  ║ └╥┘\n",
              "meas: 8/═════════════════════════════╩══╩══╩══╩══╩══╩══╩══╩═\n",
              "                                     0  1  2  3  4  5  6  7 "
            ],
            "text/html": [
              "<pre style=\"word-wrap: normal;white-space: pre;background: #fff0;line-height: 1.1;font-family: &quot;Courier New&quot;,Courier,monospace\">                                  ░ ┌─┐                     \n",
              "  q0_0: ──────────────────────────░─┤M├─────────────────────\n",
              "        ┌───┐                     ░ └╥┘┌─┐                  \n",
              "  q0_1: ┤ X ├─────────────────────░──╫─┤M├──────────────────\n",
              "        ├───┤     ┌───┐           ░  ║ └╥┘┌─┐               \n",
              "  q0_2: ┤ H ├──■──┤ X ├──■────■───░──╫──╫─┤M├───────────────\n",
              "        └───┘  │  └───┘┌─┴─┐  │   ░  ║  ║ └╥┘┌─┐            \n",
              "  q0_3: ───────┼───────┤ X ├──┼───░──╫──╫──╫─┤M├────────────\n",
              "               │       └───┘┌─┴─┐ ░  ║  ║  ║ └╥┘┌─┐         \n",
              "  q0_4: ───────┼────────────┤ X ├─░──╫──╫──╫──╫─┤M├─────────\n",
              "             ┌─┴─┐          └───┘ ░  ║  ║  ║  ║ └╥┘┌─┐      \n",
              "  q0_5: ─────┤ X ├──■────■────────░──╫──╫──╫──╫──╫─┤M├──────\n",
              "             └───┘┌─┴─┐  │        ░  ║  ║  ║  ║  ║ └╥┘┌─┐   \n",
              "  q0_6: ──────────┤ X ├──┼────────░──╫──╫──╫──╫──╫──╫─┤M├───\n",
              "                  └───┘┌─┴─┐      ░  ║  ║  ║  ║  ║  ║ └╥┘┌─┐\n",
              "  q0_7: ───────────────┤ X ├──────░──╫──╫──╫──╫──╫──╫──╫─┤M├\n",
              "                       └───┘      ░  ║  ║  ║  ║  ║  ║  ║ └╥┘\n",
              "meas: 8/═════════════════════════════╩══╩══╩══╩══╩══╩══╩══╩═\n",
              "                                     0  1  2  3  4  5  6  7 </pre>"
            ]
          },
          "metadata": {},
          "execution_count": 3
        }
      ]
    },
    {
      "cell_type": "code",
      "source": [
        "import cirq\n",
        "\n",
        "# entangle creates a quantum circuit of 'num_qubits', which produces 1's for the\n",
        "# qubits in positions defined by 'ones', and then entangles the two sets of positions\n",
        "# such that only one set will be 1's and the other 0's.\n",
        "def entangle(num_qubits, ones, setA, setB):\n",
        "    qubits = [cirq.LineQubit(i) for i in range(num_qubits)]\n",
        "    circuit = cirq.Circuit()\n",
        "\n",
        "    for idx in ones:\n",
        "        # Swap the phase of the 1's from 0, to 1.\n",
        "        circuit.append(cirq.X(qubits[idx]))\n",
        "\n",
        "    if setA and setB:  # Check if sets are not empty\n",
        "        # Choose the first element of the first subset as the one to be in a superposition of 0/1.\n",
        "        circuit.append(cirq.H(qubits[setA[0]]))\n",
        "        # Entangle it with the first element of the second subset.\n",
        "        circuit.append(cirq.CNOT(qubits[setA[0]], qubits[setB[0]]))\n",
        "        # Set the first element to be out of phase relative to the second set (which it's entangled with).\n",
        "        circuit.append(cirq.X(qubits[setA[0]]))\n",
        "\n",
        "        # Entangle the rest of setA with setA[0].\n",
        "        for idx in setA[1:]:\n",
        "            circuit.append(cirq.CNOT(qubits[setA[0]], qubits[idx]))\n",
        "\n",
        "        # Entangle the rest of setB with setB[0].\n",
        "        for idx in setB[1:]:\n",
        "            circuit.append(cirq.CNOT(qubits[setB[0]], qubits[idx]))\n",
        "\n",
        "    circuit.append(cirq.measure(*qubits, key='result'))\n",
        "    return circuit\n",
        "\n",
        "def get_matching_ones(smiley, sad):\n",
        "    return [i for i in range(len(smiley)) if smiley[i] == '#' and sad[i] == '#']\n",
        "\n",
        "def get_different_sets(smiley, sad):\n",
        "    setA = [i for i in range(len(smiley)) if smiley[i] != sad[i] and smiley[i] == '#']\n",
        "    setB = [i for i in range(len(sad)) if smiley[i] != sad[i] and sad[i] == '#']\n",
        "    return setA, setB\n",
        "\n",
        "# ASCII Art\n",
        "smiley = \"_________________\"+\\\n",
        "         \"____#_______#____\"+\\\n",
        "         \"___###_____###___\"+\\\n",
        "         \"_________________\"+\\\n",
        "         \"____#_______#____\"+\\\n",
        "         \"_____#_____#_____\"+\\\n",
        "         \"______#####______\"+\\\n",
        "         \"_________________\"\n",
        "\n",
        "sad =    \"_________________\"+\\\n",
        "         \"___###_____###___\"+\\\n",
        "         \"____#_______#____\"+\\\n",
        "         \"_________________\"+\\\n",
        "         \"______#####______\"+\\\n",
        "         \"_____#_____#_____\"+\\\n",
        "         \"_____#_____#_____\"+\\\n",
        "         \"_________________\"\n",
        "\n",
        "# Calculate qubit positions\n",
        "ones = get_matching_ones(smiley, sad)\n",
        "setA, setB = get_different_sets(smiley, sad)\n",
        "num_qubits = len(smiley)  # Derived from the ASCII grid size (3x3)\n",
        "\n",
        "# Entangle and simulate\n",
        "circuit = entangle(num_qubits, ones, setA, setB)\n",
        "simulator = cirq.Simulator()\n",
        "result = simulator.run(circuit, repetitions=5)\n",
        "\n",
        "print(f\"Behold! The power of {num_qubits} qubits!!\")\n",
        "for res in result.measurements['result']:\n",
        "    # Convert output to ASCII\n",
        "    output = res\n",
        "    ascii_output = ''.join(['#' if bit else '_' for bit in output])\n",
        "\n",
        "    # Reshape ASCII output to grid\n",
        "    n_lines = 8\n",
        "    len_lines = int(len(sad)/n_lines)\n",
        "    for i in range(0, len(smiley), len_lines):\n",
        "        print(ascii_output[i:i+len_lines])\n",
        "    print()"
      ],
      "metadata": {
        "colab": {
          "base_uri": "https://localhost:8080/"
        },
        "id": "BjWPfCEtKf-c",
        "outputId": "e69eb42e-33c9-47df-e17e-4d9f518e444c"
      },
      "execution_count": 4,
      "outputs": [
        {
          "output_type": "stream",
          "name": "stdout",
          "text": [
            "Behold! The power of 136 qubits!!\n",
            "_________________\n",
            "___###_____###___\n",
            "____#_______#____\n",
            "_________________\n",
            "______#####______\n",
            "_____#_____#_____\n",
            "_____#_____#_____\n",
            "_________________\n",
            "\n",
            "_________________\n",
            "____#_______#____\n",
            "___###_____###___\n",
            "_________________\n",
            "____#_______#____\n",
            "_____#_____#_____\n",
            "______#####______\n",
            "_________________\n",
            "\n",
            "_________________\n",
            "____#_______#____\n",
            "___###_____###___\n",
            "_________________\n",
            "____#_______#____\n",
            "_____#_____#_____\n",
            "______#####______\n",
            "_________________\n",
            "\n",
            "_________________\n",
            "____#_______#____\n",
            "___###_____###___\n",
            "_________________\n",
            "____#_______#____\n",
            "_____#_____#_____\n",
            "______#####______\n",
            "_________________\n",
            "\n",
            "_________________\n",
            "____#_______#____\n",
            "___###_____###___\n",
            "_________________\n",
            "____#_______#____\n",
            "_____#_____#_____\n",
            "______#####______\n",
            "_________________\n",
            "\n"
          ]
        }
      ]
    },
    {
      "cell_type": "code",
      "source": [
        "#@title Show the breakdown of how often we measured each state.\n",
        "import numpy as np\n",
        "from collections import Counter\n",
        "def show_measurements(measurements):\n",
        "    # Flatten the array of measurements into a list of outcomes\n",
        "    outcomes = measurements[list(measurements.keys())[0]]\n",
        "    outcomes = [''.join([str(a) for a in x]) for x in outcomes]\n",
        "\n",
        "    # Count the occurrences of each result (0 or 1)\n",
        "    result_counts = Counter(outcomes)\n",
        "\n",
        "    # Calculate the percentage of each outcome\n",
        "    total_counts = len(outcomes)\n",
        "    percentages = {state: count / total_counts * 100 for state, count in result_counts.items()}\n",
        "\n",
        "    # Display the breakdown\n",
        "    print(\"State Breakdown and Percentages:\")\n",
        "    for state, percentage in percentages.items():\n",
        "        print(f\"State |{state}⟩: {percentage:.2f}%\")\n",
        "\n",
        "show_measurements(result.measurements)"
      ],
      "metadata": {
        "colab": {
          "base_uri": "https://localhost:8080/"
        },
        "id": "4gHOAcE0cVo6",
        "outputId": "50a53a32-6e09-42eb-a56e-a2d9a3b85f11"
      },
      "execution_count": 5,
      "outputs": [
        {
          "output_type": "stream",
          "name": "stdout",
          "text": [
            "State Breakdown and Percentages:\n",
            "State |0000000000000000000011100000111000000010000000100000000000000000000000000011111000000000001000001000000000010000010000000000000000000000⟩: 20.00%\n",
            "State |0000000000000000000001000000010000000111000001110000000000000000000000001000000010000000001000001000000000001111100000000000000000000000⟩: 80.00%\n"
          ]
        }
      ]
    },
    {
      "cell_type": "code",
      "source": [],
      "metadata": {
        "id": "VAXnHNL_4DSc"
      },
      "execution_count": 5,
      "outputs": []
    }
  ]
}